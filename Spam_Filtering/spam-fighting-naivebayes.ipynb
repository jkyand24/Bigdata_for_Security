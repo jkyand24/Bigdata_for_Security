{
 "cells": [
  {
   "cell_type": "markdown",
   "metadata": {},
   "source": [
    "Dataset preparation"
   ]
  },
  {
   "cell_type": "code",
   "execution_count": 1,
   "metadata": {},
   "outputs": [],
   "source": [
    "import os\n",
    "import email_read_util"
   ]
  },
  {
   "cell_type": "code",
   "execution_count": 2,
   "metadata": {},
   "outputs": [],
   "source": [
    "DATA_DIR = 'datasets/trec07p/data/'\n",
    "LABELS_FILE = 'datasets/trec07p/full/index'\n",
    "TRAINING_SET_RATIO = 0.7"
   ]
  },
  {
   "cell_type": "code",
   "execution_count": 3,
   "metadata": {},
   "outputs": [],
   "source": [
    "labels = {}\n",
    "# Read the labels\n",
    "with open(LABELS_FILE) as f:\n",
    "    for line in f:\n",
    "        line = line.strip()\n",
    "        label, key = line.split()\n",
    "        labels[key.split('/')[-1]] = 1 if label.lower() == 'ham' else 0"
   ]
  },
  {
   "cell_type": "code",
   "execution_count": 4,
   "metadata": {},
   "outputs": [],
   "source": [
    "def read_email_files():\n",
    "    X = []\n",
    "    y = [] \n",
    "    for i in range(len(labels)):\n",
    "        filename = 'inmail.' + str(i+1)\n",
    "        email_str = email_read_util.extract_email_text(\n",
    "            os.path.join(DATA_DIR, filename))\n",
    "        X.append(email_str)\n",
    "        y.append(labels[filename])\n",
    "    return X, y"
   ]
  },
  {
   "cell_type": "code",
   "execution_count": 5,
   "metadata": {},
   "outputs": [],
   "source": [
    "X, y = read_email_files()\n",
    "\n",
    "from sklearn.model_selection import train_test_split \n",
    "\n",
    "X_train, X_test, y_train, y_test, idx_train, idx_test = \\\n",
    "    train_test_split(X, y, range(len(y)), \n",
    "    train_size=TRAINING_SET_RATIO, random_state=2)"
   ]
  },
  {
   "cell_type": "markdown",
   "metadata": {},
   "source": [
    "Feature Extraction  &  Train, Test, Report"
   ]
  },
  {
   "cell_type": "code",
   "execution_count": 6,
   "metadata": {},
   "outputs": [],
   "source": [
    "from sklearn.feature_extraction.text import CountVectorizer, TfidfVectorizer\n",
    "from sklearn.model_selection import GridSearchCV\n",
    "from sklearn.pipeline import Pipeline\n",
    "from sklearn.naive_bayes import MultinomialNB\n",
    "from sklearn.linear_model import LogisticRegression\n",
    "from sklearn.svm import SVC\n",
    "from sklearn.metrics import accuracy_score\n",
    "from sklearn.metrics import classification_report"
   ]
  },
  {
   "cell_type": "code",
   "execution_count": 7,
   "metadata": {},
   "outputs": [
    {
     "name": "stdout",
     "output_type": "stream",
     "text": [
      "Fitting 3 folds for each of 24 candidates, totalling 72 fits\n",
      "Fitting 3 folds for each of 24 candidates, totalling 72 fits\n",
      "Best parameters for NB: {'clf': MultinomialNB(), 'clf__alpha': 0.01, 'vect': TfidfVectorizer(stop_words='english'), 'vect__max_features': 5000, 'vect__ngram_range': (1, 1)}\n",
      "Best cross-validation score for NB: 0.96\n",
      "Best parameters for LR: {'clf': LogisticRegression(max_iter=1000), 'clf__C': 10, 'vect': TfidfVectorizer(stop_words='english'), 'vect__max_features': 5000, 'vect__ngram_range': (1, 1)}\n",
      "Best cross-validation score for LR: 0.98\n"
     ]
    },
    {
     "data": {
      "text/plain": [
       "'\\nprint(\"Best parameters for SVM:\", grid_search_svm.best_params_)\\nprint(\"Best cross-validation score for SVM: {:.2f}\".format(grid_search_svm.best_score_))\\n'"
      ]
     },
     "execution_count": 7,
     "metadata": {},
     "output_type": "execute_result"
    }
   ],
   "source": [
    "# GridSearchCV for each model\n",
    "\n",
    "## pipeline. 여기에는 일단 placeholder로서만 적어주면 된다.\n",
    "pipeline = Pipeline([\n",
    "    ('vect', CountVectorizer(stop_words=\"english\")), \n",
    "    ('clf', MultinomialNB())\n",
    "])\n",
    "\n",
    "## Parameters for each model\n",
    "param_grid_nb = {\n",
    "    'vect': [CountVectorizer(stop_words=\"english\"), TfidfVectorizer(stop_words=\"english\")], # 두 종류의 Vectorizer를 사용해본다. 불용어 처리도 해준다.\n",
    "    'vect__max_features': [1000, 5000], # 벡터라이저가 고려할 최대 특성 수를 지정\n",
    "    'vect__ngram_range': [(1, 1), (1, 2)], # 사용할 n-gram의 범위를 지정\n",
    "    'clf': [MultinomialNB()], # classifier: MultinomialNB\n",
    "    'clf__alpha': [0.01, 0.1, 1] # classifier의 스무딩 파라미터 alpha를 다양하게 설정\n",
    "}\n",
    "param_grid_lr = {\n",
    "    'vect': [CountVectorizer(stop_words=\"english\"), TfidfVectorizer(stop_words=\"english\")], # 두 종류의 Vectorizer를 사용해본다. 불용어 처리도 해준다.\n",
    "    'vect__max_features': [1000, 5000], # 벡터라이저의 parameter 설정은 nb model과 동일\n",
    "    'vect__ngram_range': [(1, 1), (1, 2)],\n",
    "    'clf': [LogisticRegression(max_iter=1000)], # classifier: LogisticRegression, 최대 반복 횟수를 1000으로 설정\n",
    "    'clf__C': [0.1, 1, 10] # 정규화 강도를 다양하게 설정\n",
    "}\n",
    "\n",
    "## GridSearchCV objects for each model. cv: 교차 검증(Cross-Validation)의 폴드(fold) 수\n",
    "grid_search_nb = GridSearchCV(pipeline, param_grid_nb, n_jobs=-1, verbose=1, cv=3)\n",
    "grid_search_lr = GridSearchCV(pipeline, param_grid_lr, n_jobs=-1, verbose=1, cv=3)\n",
    "\n",
    "# train\n",
    "\n",
    "grid_search_nb.fit(X_train, y_train)\n",
    "grid_search_lr.fit(X_train, y_train)\n",
    "\n",
    "# best output for each model\n",
    "\n",
    "print(\"Best parameters for NB:\", grid_search_nb.best_params_)\n",
    "print(\"Best cross-validation score for NB: {:.2f}\".format(grid_search_nb.best_score_))\n",
    "print(\"Best parameters for LR:\", grid_search_lr.best_params_)\n",
    "print(\"Best cross-validation score for LR: {:.2f}\".format(grid_search_lr.best_score_))"
   ]
  },
  {
   "cell_type": "code",
   "execution_count": 9,
   "metadata": {},
   "outputs": [
    {
     "name": "stdout",
     "output_type": "stream",
     "text": [
      "              precision    recall  f1-score   support\n",
      "\n",
      "        Spam       0.98      0.99      0.99     15035\n",
      "         Ham       0.98      0.96      0.97      7591\n",
      "\n",
      "    accuracy                           0.98     22626\n",
      "   macro avg       0.98      0.98      0.98     22626\n",
      "weighted avg       0.98      0.98      0.98     22626\n",
      "\n",
      "Classification accuracy 98.25%\n"
     ]
    }
   ],
   "source": [
    "# Test\n",
    "\n",
    "y_pred = grid_search_lr.predict(X_test)\n",
    "\n",
    "# Report \n",
    "\n",
    "print(classification_report(y_test, y_pred, target_names=['Spam', 'Ham']))\n",
    "print('Classification accuracy {:.2%}'.format(accuracy_score(y_test, y_pred)))"
   ]
  }
 ],
 "metadata": {
  "kernelspec": {
   "display_name": "Python 3",
   "language": "python",
   "name": "python3"
  },
  "language_info": {
   "codemirror_mode": {
    "name": "ipython",
    "version": 3
   },
   "file_extension": ".py",
   "mimetype": "text/x-python",
   "name": "python",
   "nbconvert_exporter": "python",
   "pygments_lexer": "ipython3",
   "version": "3.11.5"
  }
 },
 "nbformat": 4,
 "nbformat_minor": 2
}
